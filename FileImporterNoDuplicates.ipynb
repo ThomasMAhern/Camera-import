{
 "cells": [
  {
   "cell_type": "code",
   "execution_count": 5,
   "id": "1fff9b06-f2c4-4a6f-b098-6c672c51bfe2",
   "metadata": {
    "scrolled": true,
    "tags": []
   },
   "outputs": [
    {
     "name": "stdout",
     "output_type": "stream",
     "text": [
      "6 images in source\n",
      "9474 images in destination\n",
      "1 unimported images\n",
      "!!! 2 forgotton files (date_name.iiq in src, but not dst)!!!\n",
      "P0028901.IIQ | 2021-01-01_P0028901.IIQ | /Volumes/T7/sample2021/2021-01-01/P0028901.IIQ\n"
     ]
    }
   ],
   "source": [
    "import os\n",
    "import time\n",
    "import shutil\n",
    "\n",
    "# source = '/Volumes/T7/sample2021/'\n",
    "# source = '/Volumes/PHASEONE/DCIM'\n",
    "# source = '/Volumes/2019-2020_5tb/2021'\n",
    "# destination = '/Volumes/T7/2021/'\n",
    "source = input(\"Input source filepath (/Volumes/T7/sample2021/) \")\n",
    "destination = input(\"Input destination filepath (/Volumes/T7/2021/) \")\n",
    "\n",
    "\n",
    "def get_date_of_photo(photo_path):\n",
    "    '''This outputs the date for each photo YYYY-MM-DD \n",
    "    Ensure 'os' and 'time' are imported'''\n",
    "    ti_c = os.path.getctime(photo_path) # get time of file\n",
    "    c_ti = time.ctime(ti_c) # Convert time in seconds to timestamp\n",
    "    ti_m = os.path.getmtime(photo_path)\n",
    "    m_ti = time.ctime(ti_m)\n",
    "    t_obj = time.strptime(m_ti) # Use timestamp string to create time object/structure\n",
    "    t_stamp = time.strftime(\"%Y-%m-%d\", t_obj) # Transform time object to date timestamp\n",
    "    return str(t_stamp)\n",
    "\n",
    "def add_date_2_filename(file):\n",
    "    '''This takes a filename and adds the date to the beginning of it.'''\n",
    "    return str(get_date_of_photo(file) + \"_\" + file)\n",
    "\n",
    "def scantree(path):\n",
    "    \"\"\"Recursively yield DirEntry objects for given directory.\"\"\"\n",
    "    for entry in os.scandir(path):\n",
    "        if entry.is_dir(follow_symlinks=False):\n",
    "            yield from scantree(entry.path)  \n",
    "        else:\n",
    "            yield entry\n",
    "\n",
    "def transfer_which_raws(fromhere, tohere):\n",
    "    ''' \n",
    "    compares directories for unimported images. \n",
    "    checks for YYYY-MM-DD_filename.iiq format using creation date of file.\n",
    "    outputs list of (filename, filepath)\n",
    "    '''\n",
    "    print(f\"{len(list([i for i in scantree(fromhere) if ('.IIQ' or '.NEF') in i.name]))} images in source\")\n",
    "    print(f\"{len(list([i for i in scantree(tohere) if ('.IIQ' or '.NEF') in i.name]))} images in destination\")\n",
    "    files_i_somehow_missed = []\n",
    "    files_new = []\n",
    "    for i in scantree(fromhere):\n",
    "        if ('.IIQ' or '.NEF') in i.name:\n",
    "            if '_' in str(i.name):\n",
    "                files_i_somehow_missed.append([i.name, i.path, i.name])\n",
    "            else:\n",
    "                files_new.append([i.name, i.path, f'{get_date_of_photo(i.path)}_{i.name}'])\n",
    "    # list of all raw images in destination\n",
    "    there = [i.name for i in scantree(tohere) if ('.IIQ' or '.NEF') in i.name]\n",
    "    # list of raw images if they match existing files when standard 'date_name.iiq' scheme is applied\n",
    "    new_files_4_import = [iiq for iiq in files_new if iiq[2] not in there]\n",
    "    # these are files that were probably named, but for some reason weren't imported\n",
    "    forgotton_files = [iiq for iiq in files_i_somehow_missed if iiq[2] not in there]\n",
    "    print(f'{len(new_files_4_import)} unimported images')\n",
    "    if len(forgotton_files) != 0:\n",
    "        print(f'!!! {len(forgotton_files)} forgotton files (date_name.iiq in src, but not dst)!!!')\n",
    "#     return files_i_somehow_missed\n",
    "    return new_files_4_import\n",
    "\n",
    "unloved_photos = transfer_which_raws(source, destination)\n",
    "# shows photos that need to be transferred\n",
    "for name, path, new_name in unloved_photos:\n",
    "    print(name, '|',  new_name, '|', path)"
   ]
  },
  {
   "cell_type": "code",
   "execution_count": 28,
   "id": "be66f7c2-a895-4699-9ec1-5aa66c40948c",
   "metadata": {},
   "outputs": [
    {
     "name": "stdin",
     "output_type": "stream",
     "text": [
      "Do you want to copy the photos? (y/n)  \n"
     ]
    },
    {
     "data": {
      "text/plain": [
       "False"
      ]
     },
     "execution_count": 28,
     "metadata": {},
     "output_type": "execute_result"
    }
   ],
   "source": [
    "# make folders if don't exist already\n",
    "def make_folder_if_needed(unloved_photos):\n",
    "    '''takes output from transfer_which_raws function'''\n",
    "    for name, path, new_name in unloved_photos:\n",
    "        if not os.path.exists(f'{destination}/{get_date_of_photo(path)}'):\n",
    "            os.mkdir(f'{destination}/{get_date_of_photo(path)}')\n",
    "            print(f'Had to make {get_date_of_photo(path)} folder')\n",
    "\n",
    "make_folder_if_needed(unloved_photos)\n",
    "\n",
    "def copy_files_2_dst_with_newname(unloved_photos):\n",
    "    '''import shutil, make sure paths are loaded'''\n",
    "    for name, path, new_name in unloved_photos:\n",
    "        shutil.copy2(path, f'{destination}/{get_date_of_photo(path)}/{new_name}')\n",
    "        print(f'{name} copied!')\n",
    "    print('All files copied!')\n",
    "    \n",
    "if len(unloved_photos) != 0:\n",
    "    copy_photos_choice = input('Do you want to copy the photos? (y/n) ')\n",
    "copy_photos_choice.lower() == 'y'\n",
    "#     copy_files_2_dst_with_newname(unloved_photos)"
   ]
  },
  {
   "cell_type": "code",
   "execution_count": null,
   "id": "1f2d50b8-9bf0-436e-ad08-1d2eac83e94f",
   "metadata": {},
   "outputs": [],
   "source": []
  }
 ],
 "metadata": {
  "kernelspec": {
   "display_name": "Python 3",
   "language": "python",
   "name": "python3"
  },
  "language_info": {
   "codemirror_mode": {
    "name": "ipython",
    "version": 3
   },
   "file_extension": ".py",
   "mimetype": "text/x-python",
   "name": "python",
   "nbconvert_exporter": "python",
   "pygments_lexer": "ipython3",
   "version": "3.9.5"
  }
 },
 "nbformat": 4,
 "nbformat_minor": 5
}
