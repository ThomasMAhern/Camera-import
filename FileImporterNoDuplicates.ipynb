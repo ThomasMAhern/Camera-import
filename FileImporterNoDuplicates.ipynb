{
 "cells": [
  {
   "cell_type": "code",
   "execution_count": 354,
   "id": "1fff9b06-f2c4-4a6f-b098-6c672c51bfe2",
   "metadata": {
    "scrolled": true,
    "tags": []
   },
   "outputs": [
    {
     "name": "stdout",
     "output_type": "stream",
     "text": [
      "Source: 7 images  |  Destination: 9474 images\n",
      "3 images to import\n",
      "4 would-be duplicates (excluded from import)\n"
     ]
    },
    {
     "data": {
      "text/plain": [
       "['2021-01-01_P0028900.IIQ  |  2021-01-01_P0028900.IIQ  |  /Volumes/T7/sample2021/2021-01-01/2021-01-01_P0028900.IIQ',\n",
       " '2021-01-01_P0028901.IIQ  |  P0028901.IIQ  |  /Volumes/T7/sample2021/2021-01-01/P0028901.IIQ',\n",
       " '2021-01-01_P0028902.IIQ  |  P0028902.IIQ  |  /Volumes/T7/sample2021/2021-01-01/P0028902.IIQ']"
      ]
     },
     "execution_count": 354,
     "metadata": {},
     "output_type": "execute_result"
    }
   ],
   "source": [
    "import os\n",
    "import time\n",
    "import shutil\n",
    "\n",
    "source = '/Volumes/T7/sample2021/'\n",
    "# source = '/Volumes/PHASEONE/DCIM'\n",
    "# source = '/Volumes/2019-2020_5tb/2021'\n",
    "destination = '/Volumes/T7/2021/'\n",
    "# source = input(\"Input source filepath (/Volumes/T7/sample2021/) \")\n",
    "# destination = input(\"Input destination filepath (/Volumes/T7/2021/) \")\n",
    "\n",
    "def get_date_of_photo(photo_path):\n",
    "    '''This outputs the date for each photo YYYY-MM-DD \n",
    "    Ensure 'os' and 'time' are imported'''\n",
    "    ti_c = os.path.getctime(photo_path) # get time of file\n",
    "    c_ti = time.ctime(ti_c) # Convert time in seconds to timestamp\n",
    "    ti_m = os.path.getmtime(photo_path)\n",
    "    m_ti = time.ctime(ti_m)\n",
    "    t_obj = time.strptime(m_ti) # Use timestamp string to create time object/structure\n",
    "    t_stamp = time.strftime(\"%Y-%m-%d\", t_obj) # Transform time object to date timestamp\n",
    "    return str(t_stamp)\n",
    "\n",
    "def add_date_2_filename(file):\n",
    "    '''This takes a filename and adds the date to the beginning of it.'''\n",
    "    return str(get_date_of_photo(file) + \"_\" + file)\n",
    "\n",
    "def add_date_2_DirEntry_name(dir_entry):\n",
    "    if '_' not in dir_entry.name:\n",
    "        return f'{get_date_of_photo(dir_entry.path)}_{dir_entry.name}'\n",
    "    else:\n",
    "        return dir_entry.name\n",
    "\n",
    "def scantree(path):\n",
    "    \"\"\"Recursively yield DirEntry objects for given directory.\"\"\"\n",
    "    for entry in os.scandir(path):\n",
    "        if entry.is_dir(follow_symlinks=False):\n",
    "            yield from scantree(entry.path)  \n",
    "        else:\n",
    "            yield entry\n",
    "\n",
    "def transfer_which_raws(source, destination):\n",
    "    total_src_photos = [i for i in scantree(source) if i.name.endswith('.IIQ')] #images in src\n",
    "    total_dst_photos = [i for i in scantree(destination) if i.name.endswith('.IIQ')] #images in dst\n",
    "    uneaten_photos = [i for i in scantree(source) if i.name.endswith('.IIQ') if '_' not in i.name \n",
    "                          if add_date_2_DirEntry_name(i) not in [x.name for x in total_dst_photos]] #not previously imported\n",
    "    undigested_photos = [i for i in scantree(source) if i.name.endswith('.IIQ') if '_' in i.name \n",
    "                         if i.name not in [x.name for x in total_dst_photos]] #namechange suggests previous import, but photo not in dst\n",
    "    photos_4_import = uneaten_photos + undigested_photos\n",
    "    print(f'Source: {len(total_src_photos)} images  |  Destination: {len(total_dst_photos)} images')\n",
    "    print(f'{len(photos_4_import)} images to import')\n",
    "    would_b_dupes = [i for i in total_src_photos if add_date_2_DirEntry_name(i) in [add_date_2_DirEntry_name(x) for x in total_dst_photos]]\n",
    "    print(f'{len(would_b_dupes)} would-be duplicates (excluded from import)')\n",
    "    # this searches for duplicates with incongruent file sizes, meaning the dst one likely didn't finish transferring\n",
    "    # it then adds it to list to be imported and overwritten, unless the src file is smaller (aka even more weirdness)\n",
    "    for a in would_b_dupes:\n",
    "        for b in total_dst_photos:\n",
    "            if add_date_2_DirEntry_name(a) in b.name:\n",
    "                if not os.path.getsize(a.path) == os.path.getsize(b.path):\n",
    "                    print(f'{a.path} is likely corrupted')\n",
    "                    if not os.path.getsize(a.path) > os.path.getsize(b.path):\n",
    "                        print('the src file size is oddly smaller than the dst one and needs manual verification')\n",
    "                        pass\n",
    "                    else:\n",
    "                        photos_4_import.append(a)\n",
    "    return photos_4_import\n",
    "\n",
    "def make_folder_if_needed(unloved_photos):\n",
    "    '''takes output from transfer_which_raws function'''\n",
    "    for photo in unloved_photos:\n",
    "        if not os.path.exists(f'{destination}/{get_date_of_photo(photo.path)}'):\n",
    "            os.mkdir(f'{destination}/{get_date_of_photo(photo.path)}')\n",
    "            print(f'Had to make {get_date_of_photo(photo.path)} folder')\n",
    "\n",
    "def copy_files_2_dst_with_newname(unloved_photos):\n",
    "    '''import shutil, make sure paths are loaded'''\n",
    "    counter = len(unloved_photos)\n",
    "    for photo in unloved_photos:\n",
    "        shutil.copy2(photo.path, f'{destination}/{get_date_of_photo(photo.path)}/{add_date_2_DirEntry_name(photo)}')\n",
    "        counter -= 1\n",
    "        print(f'{photo.name} copied to {photo.path}, {counter} more to go!')\n",
    "    print('All files copied!')\n",
    "    \n",
    "def show_files_4_import(list_of_DirEntries):\n",
    "    pretty_view = [f'{add_date_2_DirEntry_name(i)}  |  {i.name}  |  {i.path}' for i in list_of_DirEntries]\n",
    "    return pretty_view\n",
    "\n",
    "unloved_photos = transfer_which_raws(source, destination)\n",
    "list(set(unloved_photos))\n",
    "unloved_photos.sort(key=lambda x: x.name)\n",
    "\n",
    "show_files_4_import(unloved_photos)"
   ]
  },
  {
   "cell_type": "code",
   "execution_count": 355,
   "id": "be66f7c2-a895-4699-9ec1-5aa66c40948c",
   "metadata": {},
   "outputs": [
    {
     "name": "stdout",
     "output_type": "stream",
     "text": [
      "Had to make 2021-01-01 folder\n",
      "2021-01-01_P0028900.IIQ copied to /Volumes/T7/sample2021/2021-01-01/2021-01-01_P0028900.IIQ, 2 more to go!\n",
      "P0028901.IIQ copied to /Volumes/T7/sample2021/2021-01-01/P0028901.IIQ, 1 more to go!\n",
      "P0028902.IIQ copied to /Volumes/T7/sample2021/2021-01-01/P0028902.IIQ, 0 more to go!\n",
      "All files copied!\n"
     ]
    }
   ],
   "source": [
    "make_folder_if_needed(unloved_photos)\n",
    "copy_files_2_dst_with_newname(unloved_photos)"
   ]
  },
  {
   "cell_type": "code",
   "execution_count": 351,
   "id": "0585a3f0-a790-4dcd-a9de-52594a85a921",
   "metadata": {},
   "outputs": [],
   "source": [
    "# # http://blog.rtwilson.com/how-to-rescue-lost-code-from-a-jupyteripython-notebook/comment-page-1/?unapproved=475810&moderation-hash=4336104302e1783db774273230388a22#comment-475810\n",
    "# # Oh my goodness, thanks so much to the above link. The following code saves your bacon! \n",
    "# # I had deleted a cell with a function I needed, but was able to get it back \n",
    "# # since it was still loaded!! What a life saver!\n",
    "# def rescue_code(function):\n",
    "#     import inspect\n",
    "#     get_ipython().set_next_input(\"\".join(inspect.getsourcelines(function)[0]))\n",
    "\n",
    "# rescue_code(add_date_2_DirEntry_name)"
   ]
  }
 ],
 "metadata": {
  "kernelspec": {
   "display_name": "Python 3",
   "language": "python",
   "name": "python3"
  },
  "language_info": {
   "codemirror_mode": {
    "name": "ipython",
    "version": 3
   },
   "file_extension": ".py",
   "mimetype": "text/x-python",
   "name": "python",
   "nbconvert_exporter": "python",
   "pygments_lexer": "ipython3",
   "version": "3.9.5"
  }
 },
 "nbformat": 4,
 "nbformat_minor": 5
}
