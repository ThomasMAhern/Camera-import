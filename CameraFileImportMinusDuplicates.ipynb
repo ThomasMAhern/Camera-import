{
 "cells": [
  {
   "cell_type": "code",
   "execution_count": 26,
   "id": "e22370b9-0bd9-4343-b3d3-53706aa418d1",
   "metadata": {},
   "outputs": [],
   "source": [
    "import os"
   ]
  },
  {
   "cell_type": "code",
   "execution_count": 27,
   "id": "628d30fa-6e4a-47b5-87e2-bcf632a2905c",
   "metadata": {},
   "outputs": [
    {
     "name": "stdout",
     "output_type": "stream",
     "text": [
      "\u001b[31m2021-08-15_P0042841.IIQ\u001b[m\u001b[m*\n",
      "\u001b[34mApplications\u001b[m\u001b[m/\n",
      "\u001b[34mApplications (Parallels)\u001b[m\u001b[m/\n",
      "\u001b[34mDesktop\u001b[m\u001b[m/\n",
      "\u001b[34mDocuments\u001b[m\u001b[m/\n",
      "\u001b[34mDownloads\u001b[m\u001b[m/\n",
      "Intro to NLP with spaCy (6) Detecting programming languages  Episode 6 Moving to spaCy v3.mp4\n",
      "\u001b[34mLibrary\u001b[m\u001b[m/\n",
      "\u001b[34mMovies\u001b[m\u001b[m/\n",
      "\u001b[34mMusic\u001b[m\u001b[m/\n",
      "NLP_Animorphs.ipynb\n",
      "\u001b[34mParallels\u001b[m\u001b[m/\n",
      "\u001b[34mPhotogApp.rtfd\u001b[m\u001b[m/\n",
      "\u001b[34mPictures\u001b[m\u001b[m/\n",
      "\u001b[34mPublic\u001b[m\u001b[m/\n",
      "README.md\n",
      "Random.ipynb\n",
      "SpacyNotesLearning.ipynb\n",
      "SpacyPractice.ipynb\n",
      "\u001b[34mStudioProjects\u001b[m\u001b[m/\n",
      "TechInterview.ipynb\n",
      "Untitled.ipynb\n",
      "Untitled1.ipynb\n",
      "Untitled2.ipynb\n",
      "\u001b[34mUsers\u001b[m\u001b[m/\n",
      "\u001b[34mVirtualBox VMs\u001b[m\u001b[m/\n",
      "YoutubeDownloader.ipynb\n",
      "YoutubeDownloader2.ipynb\n",
      "fuckwithrepublicans.ipynb\n",
      "test.txt\n"
     ]
    }
   ],
   "source": [
    "ls"
   ]
  },
  {
   "cell_type": "code",
   "execution_count": 5,
   "id": "b52e8df8-d70b-4d74-a3b1-c6d99f814060",
   "metadata": {},
   "outputs": [
    {
     "name": "stdout",
     "output_type": "stream",
     "text": [
      "\u001b[33mDEPRECATION: Configuring installation scheme with distutils config files is deprecated and will no longer work in the near future. If you are using a Homebrew or Linuxbrew Python, please see discussion at https://github.com/Homebrew/homebrew-core/issues/76621\u001b[0m\n",
      "Requirement already satisfied: Pillow in /usr/local/lib/python3.9/site-packages (8.3.0)\n",
      "\u001b[33mWARNING: You are using pip version 21.2.3; however, version 21.2.4 is available.\n",
      "You should consider upgrading via the '/usr/local/opt/python@3.9/bin/python3.9 -m pip install --upgrade pip' command.\u001b[0m\n"
     ]
    }
   ],
   "source": [
    "!pip3 install Pillow"
   ]
  },
  {
   "cell_type": "code",
   "execution_count": 28,
   "id": "06837f0f-bb1a-4bf3-8110-2f3bd8cb8a1d",
   "metadata": {},
   "outputs": [],
   "source": [
    "from PIL import Image\n",
    "from PIL.ExifTags import TAGS"
   ]
  },
  {
   "cell_type": "code",
   "execution_count": 29,
   "id": "7689c5df-2ffe-4529-acec-38101bf7a074",
   "metadata": {},
   "outputs": [],
   "source": [
    "# path to the image or video\n",
    "imagename = \"2021-08-15_P0042841.IIQ\"\n",
    "\n",
    "# read the image data using PIL\n",
    "image = Image.open(imagename)"
   ]
  },
  {
   "cell_type": "code",
   "execution_count": 30,
   "id": "d3faf242-9e86-4b97-b160-a9b73e195602",
   "metadata": {},
   "outputs": [],
   "source": [
    "# extract EXIF data\n",
    "exifdata = image.getexif()"
   ]
  },
  {
   "cell_type": "code",
   "execution_count": 31,
   "id": "4eeb3996-4360-46c9-be5e-7ea20bb1eb05",
   "metadata": {},
   "outputs": [
    {
     "name": "stdout",
     "output_type": "stream",
     "text": [
      "ImageWidth               : 640\n",
      "ImageLength              : 480\n",
      "BitsPerSample            : (8, 8, 8)\n",
      "Compression              : 1\n",
      "PhotometricInterpretation: 2\n",
      "Make                     : Phase One\n",
      "Model                    : IQ4 150MP\n",
      "StripOffsets             : 164513524\n",
      "SamplesPerPixel          : 3\n",
      "RowsPerStrip             : 480\n",
      "StripByteCounts          : 921600\n",
      "Copyright                : Thomas Ahern cryptothink8@gmail.com\n",
      "XResolution              : 292.57142857142856\n",
      "YResolution              : 292.57142857142856\n",
      "PlanarConfiguration      : 1\n",
      "ResolutionUnit           : 2\n",
      "XMLPacket                : <?xpacket begin='' id='W5M0MpCehiHzreSzNTczkc9d' ?><x:xmpmeta  xmlns:x='adobe:ns:meta/' x:xmptk='Adobe XMP Core 5.2-c004 1.136881, 2010/06/10-18:11:35'></x:xmpmeta><?xpacket end='w'?>                                                                                                                                                                                                                                                                                                                                        \u0000                                                                                                                                                                                                                                                                                                                                                                                                                                                                                                                               \u0000                                                                                                                                                                                                                                                                                                                                                                                                                                                                                                                               \u0000                                                                                                                                                                                                                                                                                                                                                                                                                                                                                                                               \u0000                                                                                                                                                                                                                                                                                                                                                                                                                                                                                                                               \u0000                                                                                                                                                                                                                                                                                                                                                                                                                                                                                                                               \u0000                                                                                                                                                                                                                                                                                                                                                                                                                                                                                                                               \u0000                                                                                                                                                                                                                                                                                                                                                                                                                                                                                                                               \u0000                                                                                                                                                                                                                                                                                                                                                                                                                                                                                                                               \u0000                                                                                                                                                                                                                                                                                                                                                                                                                                                                                                                               \u0000                                                                                                                                                                                                                                                                                                                                                                                                                                                                                                                               \u0000                                                                                                                                                                                                                                                                                                                                                                                                                                                                                                                               \u0000                                                                                                                                                                                                                                                                                                                                                                                                                                                                                                                               \u0000                                                                                                                                                                                                                                                                                                                                                                                                                                                                                                                               \u0000                                                                                                                                                                                                                                                                                                                                                                                                                                                                                                                               \u0000                                                                                                                                                                                                                                                                                                                                                                                                                                                                                                                               \u0000                                                                                                                                                                                                                                                                                                                                                                                                                                                                                                                               \u0000                                                                                                                                                                                                                                                                                                                                                                                                                                                                                                                               \u0000                                                                                                                                                                                                                                                                                                                                                                                                                                                                                                                               \u0000                                                                                                                                                                                                                                                                                                                                                                                                                                                                                                                               \u0000                                                                                                                                                                                                                                                                                                                                                                                                                                                                                                                               \u0000                                                                                                                                                                                                                                                                                                                                                                                                                                                                                                                               \u0000                                                                                                                                                                                                                                                                                                                                                                                                                                                                                                                               \u0000                                                                                                                                                                                                                                                                                                                                                                                                                                                                                                                               \u0000                                                                                                                                                                                                                                                                                                                                                                                                                                                                                                                               \u0000                                                                                                                                                                                                                                                                                                                                                                                                                                                                                                                               \u0000                                                                                                                                                                                                                                                                                                                                                                                                                                                                                                                               \u0000                                                                                                                                                                                                                                                                                                                                                                                                                                                                                                                               \u0000                                                                                                                                                                                                                                                                                                                                                                                                                                                                                                                               \u0000                                                                                                                                                                                                                                                                                                                                                                                                                                                                                                                               \u0000                                                                                                                                                                                                                                                                                                                                                                                                                                                                                                                               \u0000                                                                                                                                                                                                                                                                                                                                                                                                                                                                                                                               \u0000\n",
      "ExifOffset               : 165451994\n",
      "NewSubfileType           : 0\n"
     ]
    }
   ],
   "source": [
    "# iterating over all EXIF data fields\n",
    "for tag_id in exifdata:\n",
    "    # get the tag name, instead of human unreadable tag id\n",
    "    tag = TAGS.get(tag_id, tag_id)\n",
    "    data = exifdata.get(tag_id)\n",
    "    # decode bytes \n",
    "    if isinstance(data, bytes):\n",
    "        data = data.decode()\n",
    "    print(f\"{tag:25}: {data}\")"
   ]
  },
  {
   "cell_type": "code",
   "execution_count": 38,
   "id": "7f54d7d3-103a-4cb8-95a5-3de49b9a32fe",
   "metadata": {},
   "outputs": [
    {
     "name": "stdout",
     "output_type": "stream",
     "text": [
      "33279 33279\n",
      "21228905 21228905\n",
      "16777232 16777232\n",
      "1 1\n",
      "501 501\n",
      "20 20\n",
      "165453824 165453824\n",
      "1629014875 1629014875\n",
      "1629000874 1629000874\n",
      "1629014889 1629014889\n"
     ]
    }
   ],
   "source": [
    "for stat in os.stat('2021-08-15_P0042841.IIQ'):\n",
    "    print(stat)"
   ]
  },
  {
   "cell_type": "code",
   "execution_count": 25,
   "id": "86b6451d-4c01-4d7e-bc71-cb015c09b9c7",
   "metadata": {},
   "outputs": [
    {
     "data": {
      "text/plain": [
       "os.stat_result(st_mode=33279, st_ino=21228905, st_dev=16777232, st_nlink=1, st_uid=501, st_gid=20, st_size=165453824, st_atime=1629014875, st_mtime=1629000874, st_ctime=1629014889)"
      ]
     },
     "execution_count": 25,
     "metadata": {},
     "output_type": "execute_result"
    }
   ],
   "source": [
    "os.stat('2021-08-15_P0042841.IIQ')"
   ]
  },
  {
   "cell_type": "code",
   "execution_count": 19,
   "id": "f98a55d3-689a-43c9-ad62-7fad8229b6ac",
   "metadata": {},
   "outputs": [
    {
     "data": {
      "text/plain": [
       "1629000874.0"
      ]
     },
     "execution_count": 19,
     "metadata": {},
     "output_type": "execute_result"
    }
   ],
   "source": [
    "os.path.getmtime('2021-08-15_P0042841.IIQ')"
   ]
  },
  {
   "cell_type": "code",
   "execution_count": 20,
   "id": "29645f73-2b2f-4bdf-868e-fee33d9b3365",
   "metadata": {},
   "outputs": [
    {
     "ename": "NameError",
     "evalue": "name 'filePath' is not defined",
     "output_type": "error",
     "traceback": [
      "\u001b[0;31m---------------------------------------------------------------------------\u001b[0m",
      "\u001b[0;31mNameError\u001b[0m                                 Traceback (most recent call last)",
      "\u001b[0;32m<ipython-input-20-6c4c61dd766f>\u001b[0m in \u001b[0;36m<module>\u001b[0;34m\u001b[0m\n\u001b[0;32m----> 1\u001b[0;31m \u001b[0mfileStatsObj\u001b[0m \u001b[0;34m=\u001b[0m \u001b[0mos\u001b[0m\u001b[0;34m.\u001b[0m\u001b[0mstat\u001b[0m \u001b[0;34m(\u001b[0m \u001b[0mfilePath\u001b[0m \u001b[0;34m)\u001b[0m\u001b[0;34m\u001b[0m\u001b[0;34m\u001b[0m\u001b[0m\n\u001b[0m\u001b[1;32m      2\u001b[0m \u001b[0mmodificationTime\u001b[0m \u001b[0;34m=\u001b[0m \u001b[0mtime\u001b[0m\u001b[0;34m.\u001b[0m\u001b[0mctime\u001b[0m \u001b[0;34m(\u001b[0m \u001b[0mfileStatsObj\u001b[0m \u001b[0;34m[\u001b[0m \u001b[0mstat\u001b[0m\u001b[0;34m.\u001b[0m\u001b[0mST_MTIME\u001b[0m \u001b[0;34m]\u001b[0m \u001b[0;34m)\u001b[0m\u001b[0;34m\u001b[0m\u001b[0;34m\u001b[0m\u001b[0m\n\u001b[1;32m      3\u001b[0m \u001b[0;34m\u001b[0m\u001b[0m\n\u001b[1;32m      4\u001b[0m \u001b[0mprint\u001b[0m\u001b[0;34m(\u001b[0m\u001b[0;34m\"Last Modified Time : \"\u001b[0m\u001b[0;34m,\u001b[0m \u001b[0mmodificationTime\u001b[0m \u001b[0;34m)\u001b[0m\u001b[0;34m\u001b[0m\u001b[0;34m\u001b[0m\u001b[0m\n",
      "\u001b[0;31mNameError\u001b[0m: name 'filePath' is not defined"
     ]
    }
   ],
   "source": [
    "fileStatsObj = os.stat ( filePath )\n",
    "modificationTime = time.ctime ( fileStatsObj [ stat.ST_MTIME ] )\n",
    " \n",
    "print(\"Last Modified Time : \", modificationTime )"
   ]
  },
  {
   "cell_type": "code",
   "execution_count": 23,
   "id": "5f27d716-19f8-4dc3-9fc3-28665b8ba39d",
   "metadata": {},
   "outputs": [
    {
     "data": {
      "text/plain": [
       "'/Users/ioktwieaetiq'"
      ]
     },
     "execution_count": 23,
     "metadata": {},
     "output_type": "execute_result"
    }
   ],
   "source": [
    "os.getcwd()"
   ]
  },
  {
   "cell_type": "code",
   "execution_count": null,
   "id": "815f6df7-3b7c-4734-a79d-09037e12e5a8",
   "metadata": {},
   "outputs": [],
   "source": []
  },
  {
   "cell_type": "code",
   "execution_count": 12,
   "id": "0fd1fa7e-00d2-4526-b30c-5b3ed544e854",
   "metadata": {},
   "outputs": [],
   "source": [
    "# Here's an alternative implementation of the comparison function \n",
    "# with filecmp module. It uses a recursion instead of os.walk, so \n",
    "# it is a little simpler. However, it does not recurse simply by \n",
    "# using common_dirs and subdirs attributes since in that case we \n",
    "# would be implicitly using the default \"shallow\" implementation of \n",
    "# files comparison, which is probably not what you want. In the \n",
    "# implementation below, when comparing files with the same name, we're \n",
    "# always comparing only their contents.\n",
    "\n",
    "\n",
    "\n",
    "import filecmp\n",
    "import os.path\n",
    "\n",
    "def are_dir_trees_equal(dir1, dir2):\n",
    "    \"\"\"\n",
    "    Compare two directories recursively. Files in each directory are\n",
    "    assumed to be equal if their names and contents are equal.\n",
    "\n",
    "    @param dir1: First directory path\n",
    "    @param dir2: Second directory path\n",
    "\n",
    "    @return: True if the directory trees are the same and \n",
    "        there were no errors while accessing the directories or files, \n",
    "        False otherwise.\n",
    "   \"\"\"\n",
    "\n",
    "    dirs_cmp = filecmp.dircmp(dir1, dir2)\n",
    "    if len(dirs_cmp.left_only)>0 or len(dirs_cmp.right_only)>0 or \\\n",
    "        len(dirs_cmp.funny_files)>0:\n",
    "        return False\n",
    "    (_, mismatch, errors) =  filecmp.cmpfiles(\n",
    "        dir1, dir2, dirs_cmp.common_files, shallow=False)\n",
    "    if len(mismatch)>0 or len(errors)>0:\n",
    "        return False\n",
    "    for common_dir in dirs_cmp.common_dirs:\n",
    "        new_dir1 = os.path.join(dir1, common_dir)\n",
    "        new_dir2 = os.path.join(dir2, common_dir)\n",
    "        if not are_dir_trees_equal(new_dir1, new_dir2):\n",
    "            return False\n",
    "    return True"
   ]
  },
  {
   "cell_type": "code",
   "execution_count": null,
   "id": "9842f319-b944-44eb-bffe-ec8e589ceca6",
   "metadata": {},
   "outputs": [],
   "source": []
  },
  {
   "cell_type": "code",
   "execution_count": null,
   "id": "ab707e8f-b550-4aa1-a7d7-b1b4fd2bffab",
   "metadata": {},
   "outputs": [],
   "source": []
  },
  {
   "cell_type": "code",
   "execution_count": null,
   "id": "02a8afd8-bb15-4447-9638-61d433a847aa",
   "metadata": {},
   "outputs": [],
   "source": []
  },
  {
   "cell_type": "code",
   "execution_count": null,
   "id": "50280a13-738a-493d-8acc-5c1238bd88c5",
   "metadata": {},
   "outputs": [],
   "source": []
  },
  {
   "cell_type": "code",
   "execution_count": 13,
   "id": "301f8bef-fd02-43f0-8488-62e44e4866dc",
   "metadata": {},
   "outputs": [],
   "source": [
    "# filecmp.dircmp is the way to go. But it does not compare the \n",
    "# content of files found with the same path in two compared directories. \n",
    "# Instead filecmp.dircmp only looks at files attributes. Since dircmp is a \n",
    "# class, you fix that with a dircmp subclass and override its phase3 \n",
    "# function that compares files to ensure content is compared instead of \n",
    "# only comparing os.stat attributes.\n",
    "\n",
    "import filecmp\n",
    "\n",
    "class dircmp(filecmp.dircmp):\n",
    "    \"\"\"\n",
    "    Compare the content of dir1 and dir2. In contrast with filecmp.dircmp, this\n",
    "    subclass compares the content of files with the same path.\n",
    "    \"\"\"\n",
    "    def phase3(self):\n",
    "        \"\"\"\n",
    "        Find out differences between common files.\n",
    "        Ensure we are using content comparison with shallow=False.\n",
    "        \"\"\"\n",
    "        fcomp = filecmp.cmpfiles(self.left, self.right, self.common_files,\n",
    "                                 shallow=False)\n",
    "        self.same_files, self.diff_files, self.funny_files = fcomp\n",
    "\n",
    "        \n",
    "# Then you can use this to return a boolean:\n",
    "\n",
    "import os.path\n",
    "\n",
    "def is_same(dir1, dir2):\n",
    "    \"\"\"\n",
    "    Compare two directory trees content.\n",
    "    Return False if they differ, True is they are the same.\n",
    "    \"\"\"\n",
    "    compared = dircmp(dir1, dir2)\n",
    "    if (compared.left_only or compared.right_only or compared.diff_files \n",
    "        or compared.funny_files):\n",
    "        return False\n",
    "    for subdir in compared.common_dirs:\n",
    "        if not is_same(os.path.join(dir1, subdir), os.path.join(dir2, subdir)):\n",
    "            return False\n",
    "    return True"
   ]
  },
  {
   "cell_type": "code",
   "execution_count": null,
   "id": "18bd4580-0d0c-4589-a857-32591c708878",
   "metadata": {},
   "outputs": [],
   "source": []
  }
 ],
 "metadata": {
  "kernelspec": {
   "display_name": "Python 3",
   "language": "python",
   "name": "python3"
  },
  "language_info": {
   "codemirror_mode": {
    "name": "ipython",
    "version": 3
   },
   "file_extension": ".py",
   "mimetype": "text/x-python",
   "name": "python",
   "nbconvert_exporter": "python",
   "pygments_lexer": "ipython3",
   "version": "3.9.5"
  }
 },
 "nbformat": 4,
 "nbformat_minor": 5
}
